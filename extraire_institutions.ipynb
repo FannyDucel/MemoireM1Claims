{
 "cells": [
  {
   "cell_type": "code",
   "execution_count": 2,
   "metadata": {},
   "outputs": [],
   "source": [
    "import json\n",
    "import warnings\n",
    "warnings.filterwarnings('ignore')\n",
    "\n",
    "def ecrire_json(chemin, contenu):\n",
    "  w = open(chemin, \"w\", encoding=\"utf-8\")\n",
    "  w.write(json.dumps(contenu, indent=2, ensure_ascii=False))\n",
    "  w.close()\n",
    "\n",
    "def ouvrir_json(chemin):\n",
    "  f = open(chemin, encoding=\"utf-8\")\n",
    "  toto = json.load(f)\n",
    "  f.close()\n",
    "  return toto \n",
    "\n",
    "def lire_fichier(chemin):\n",
    "    with open(chemin,encoding=\"utf-8\",errors=\"ignore\") as f:\n",
    "        text = f.read()\n",
    "    return text\n",
    "\n",
    "#dico forme chemin_article:institution_presente\n",
    "dico_institutions = {}\n",
    "#liste établie à partir des 50 premières universités du top Shanghai 2021 (avec variations orthographiques/linguistiques) + GAFAM\n",
    "liste_institutions = ouvrir_json(\"liste_institutions.json\")\n",
    "\n",
    "liste_articles = ouvrir_json(\"liste_chemins_acl_linux.json\")\n",
    "\n",
    "for chemin in liste_articles:\n",
    "    if \".body\" not in chemin:\n",
    "        article = lire_fichier(chemin)\n",
    "        chemin_nettoye = chemin.split(\"/\")[-1].split(\"\\\\\")[-1]\n",
    "\n",
    "        #partie dico_institutions\n",
    "        for insti in liste_institutions:\n",
    "            if insti in article[:1000]:\n",
    "                if chemin_nettoye not in dico_institutions:\n",
    "                    dico_institutions[chemin_nettoye]=[]\n",
    "                dico_institutions[chemin_nettoye].append(insti)\n",
    "        \n",
    "ecrire_json(\"dico_institutions1000_corr.json\",dico_institutions)"
   ]
  },
  {
   "cell_type": "code",
   "execution_count": 3,
   "metadata": {},
   "outputs": [
    {
     "name": "stdout",
     "output_type": "stream",
     "text": [
      "2603\n",
      "0\n",
      "8719\n"
     ]
    }
   ],
   "source": [
    "print(len(dico_institutions)) #6459 sur tout le texte, 3094 sur 500 premiers caractères, 3314 sur 1000 premiers\n",
    "print(0)\n",
    "print(len(liste_articles))"
   ]
  },
  {
   "cell_type": "code",
   "execution_count": 16,
   "metadata": {},
   "outputs": [
    {
     "name": "stdout",
     "output_type": "stream",
     "text": [
      "0\n"
     ]
    }
   ],
   "source": [
    "#comment croiser les données lol (relier les articles qui contiennent des noms d'institutions au dico avec les strengths)\n",
    "dico_strengths = ouvrir_json(\"stopwords/comparaison_claims_chiffres_equilibre_sw_corr.json\")\n",
    "dico_i = ouvrir_json(\"dico_institutions1000_corr.json\")\n",
    "dico_institutions = ouvrir_json(\"dico_institutions1000_corr.json\")\n",
    "\n",
    "for chemin in dico_institutions.keys():\n",
    "    if chemin in dico_strengths:\n",
    "        #if \".cite\" not in chemin:\n",
    "            dico_institutions[chemin].append(dico_strengths[chemin])\n",
    "        \n",
    "#print(dico_strengths)\n",
    "print(len(dico_institutions))\n",
    "ecrire_json(\"comparaison_claims_chiffres22_institutions_sw_corr.json\",dico_institutions)"
   ]
  },
  {
   "cell_type": "code",
   "execution_count": 8,
   "metadata": {},
   "outputs": [
    {
     "name": "stdout",
     "output_type": "stream",
     "text": [
      "2592\n"
     ]
    }
   ],
   "source": [
    "#faire dico inverse avec seulement les articles qui contiennent un nom d'institution pour relancer calculs seulement sur ces dicos\n",
    "\n",
    "#dico sans les noms des insti, seulement une version diminuée comparaison_claims_chiffres_equilibre2 avec slmt valeurs des articles qui contiennent un nom d'insti\n",
    "dico_slmt_insti = {}\n",
    "for chemin in dico_strengths.keys():\n",
    "    if chemin in dico_institutions and \".cite\" not in chemin:\n",
    "        dico_slmt_insti[chemin]=dico_strengths[chemin]\n",
    "        \n",
    "print(len(dico_slmt_insti))\n",
    "#print(dico_slmt_insti)\n",
    "ecrire_json(\"comparaison_claims_institutions_sansnom_sw_corr.json\",dico_slmt_insti)"
   ]
  },
  {
   "cell_type": "code",
   "execution_count": 15,
   "metadata": {},
   "outputs": [
    {
     "name": "stdout",
     "output_type": "stream",
     "text": [
      "5281\n"
     ]
    }
   ],
   "source": [
    "dico_sans_insti = {}\n",
    "for chemin in dico_strengths.keys():\n",
    "    if chemin not in dico_institutions :\n",
    "        dico_sans_insti[chemin]=dico_strengths[chemin]\n",
    "\n",
    "print(len(dico_sans_insti))\n",
    "#print(dico_sans_insti)\n",
    "ecrire_json(\"comparaison_claims_noinstitutions_sansnom_sw_corr.json\",dico_sans_insti)"
   ]
  },
  {
   "cell_type": "code",
   "execution_count": 12,
   "metadata": {},
   "outputs": [
    {
     "name": "stdout",
     "output_type": "stream",
     "text": [
      "{'Microsoft': 344, 'University of California': 320, 'University of Edinburgh': 222, 'Google': 189, 'University of Pennsylvania': 156, 'Stanford University': 151, 'Peking University': 140, 'Johns Hopkins University': 136, 'University of Washington': 122, 'Tsinghua University': 120, 'University of Cambridge': 116, 'Columbia University': 116, 'MIT': 102, 'Facebook': 81, 'University of Tokyo': 81, 'Cornell University': 69, 'New York University': 69, 'Amazon': 63, 'Massachusetts Institute of Technology': 57, 'University of Texas at Austin': 51, 'University of Copenhagen': 47, 'University of Melbourne': 47, 'University of Michigan': 47, 'University of Toronto': 47, 'Kyoto University': 39, 'Harvard University': 37, 'University of Manchester': 27, 'University of Oxford': 25, 'University of Chicago': 20, 'Northwestern University': 18, 'University College London': 18, 'Duke University': 16, 'University of Minnesota': 15, 'Yale University': 14, 'Washington University': 13, 'Imperial College London': 12, 'Apple': 10, 'University of North Carolina': 10, 'Princeton University': 9, 'University of British Columbia': 9, 'University of Wisconsin-Madison': 9, 'University of Colorado at Boulder': 8, 'Sorbonne Université': 4, 'Utrecht University': 3, 'King’s College London': 2, 'Université Paris-Saclay': 1, 'California Institute of Technology': 1}\n"
     ]
    }
   ],
   "source": [
    "#voir quelles institutions sont présentes (liste des valeurs du dico sans doublons avec leur nb d'occu)\n",
    "dico_institutions = ouvrir_json(\"dico_institutions1000_corr.json\")\n",
    "nb_insti = {}\n",
    "for liste_insti in dico_institutions.values():\n",
    "    for insti in liste_insti:\n",
    "        if insti not in nb_insti:\n",
    "            nb_insti[insti]=0\n",
    "        nb_insti[insti]+=1\n",
    "\n",
    "nb_insti = sorted(nb_insti.items(), key=lambda x:x[1],reverse=True)\n",
    "nb_insti_trie = dict(nb_insti)\n",
    "print(nb_insti_trie)\n",
    "ecrire_json(\"dico_nb_insti_sw_corr.json\",nb_insti_trie)\n",
    "#vérifier pour les GAFAM si bien des affiliations"
   ]
  }
 ],
 "metadata": {
  "kernelspec": {
   "display_name": "Python 3 (ipykernel)",
   "language": "python",
   "name": "python3"
  },
  "language_info": {
   "codemirror_mode": {
    "name": "ipython",
    "version": 3
   },
   "file_extension": ".py",
   "mimetype": "text/x-python",
   "name": "python",
   "nbconvert_exporter": "python",
   "pygments_lexer": "ipython3",
   "version": "3.10.4"
  }
 },
 "nbformat": 4,
 "nbformat_minor": 2
}
