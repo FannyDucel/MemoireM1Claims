{
 "cells": [
  {
   "cell_type": "code",
   "execution_count": 6,
   "metadata": {},
   "outputs": [],
   "source": [
    "import json\n",
    "def ouvrir_json(chemin):\n",
    "  f = open(chemin, encoding=\"utf-8\")\n",
    "  toto = json.load(f)\n",
    "  f.close()\n",
    "  return toto\n",
    "\n",
    "def ecrire_json(chemin, contenu):\n",
    "  w = open(chemin, \"w\", encoding=\"utf-8\")\n",
    "  w.write(json.dumps(contenu, indent=2, ensure_ascii=False))\n",
    "  w.close()\n",
    "\n",
    "dico_compte_partiemaj = ouvrir_json(\"dico_compte_partiemaj_sw_corr.json\") #seulement sur articles avec claims de force diff\n",
    "#dico_compte_partiemaj_tt = ouvrir_json(\"dico_claims_partiemaj_tt_sw.json\") #sur tout\n",
    "dico_compte_partiemaj_bp = ouvrir_json(\"dico_claims_partiemaj_bougentpas_sw_corr.json\")#seulement sur ceux qui bougent pas\n",
    "\n",
    "dico_compteur = ouvrir_json(\"dico_compteur_sw_corr.json\") #sur tous\n",
    "dico_compteur_art = ouvrir_json(\"dico_compteur_art_sw_corr.json\") #sur articles seulement\n",
    "dico_compteur_bp = ouvrir_json(\"dico_compteur_bp_sw_corr.json\")#seulement sur ceux qui bougent pas\n",
    "\n",
    "dico_total_partie = ouvrir_json(\"dico_total_partie_sw_corr.json\") #sur tous\n",
    "dico_total_partie_art = ouvrir_json(\"dico_total_partie_art_sw_corr.json\") #sur articles seulement\n",
    "dico_total_partie_bp = ouvrir_json(\"dico_total_partie_bp_sw_corr.json\")#seulement sur ceux qui bougent pas\n",
    "\n",
    "dico_compte_partiemaj = dico_total_partie"
   ]
  },
  {
   "cell_type": "code",
   "execution_count": 3,
   "metadata": {
    "scrolled": true
   },
   "outputs": [],
   "source": [
    "f = ouvrir_json(\"comparaison_claimsstopwordstotal.json\")\n",
    "new_f = {}\n",
    "for chemin, dico in f.items():\n",
    "    if \".body\" not in chemin:\n",
    "        new_f[chemin]=dico\n",
    "\n",
    "ecrire_json(\"comparaison_claimsstopwordstotal_corr.json\",new_f)"
   ]
  },
  {
   "cell_type": "code",
   "execution_count": 8,
   "metadata": {},
   "outputs": [
    {
     "name": "stdout",
     "output_type": "stream",
     "text": [
      "{'0': 327, '1': 6553, '2': 8064}\n"
     ]
    }
   ],
   "source": [
    "dico_nb_strength = {\"0\":dico_compteur[\"abstract\"][\"0\"]+dico_compteur[\"ccl\"][\"0\"]+dico_compteur[\"intro\"][\"0\"]+dico_compteur[\"corps\"][\"0\"], \"1\":dico_compteur[\"abstract\"][\"1\"]+dico_compteur[\"ccl\"][\"1\"]+dico_compteur[\"intro\"][\"1\"]+dico_compteur[\"corps\"][\"1\"],\"2\":dico_compteur[\"abstract\"][\"2\"]+dico_compteur[\"ccl\"][\"2\"]+dico_compteur[\"intro\"][\"2\"]+dico_compteur[\"corps\"][\"2\"]}\n",
    "print(dico_nb_strength)\n",
    "ecrire_json(\"dico_nb_strength_sw_corr.json\",dico_nb_strength)"
   ]
  },
  {
   "cell_type": "code",
   "execution_count": 11,
   "metadata": {},
   "outputs": [
    {
     "data": {
      "image/png": "[encoded data removed]",
      "text/plain": [
       "<Figure size 432x288 with 1 Axes>"
      ]
     },
     "metadata": {
      "needs_background": "light"
     },
     "output_type": "display_data"
    }
   ],
   "source": [
    "# tout => en prenant en compte doublons\n",
    "import matplotlib.pyplot as plt\n",
    "import pandas as pd\n",
    "\n",
    "#data = {'ccl': 1456, 'abstract': 4747, 'intro': 1940}\n",
    "#data = {'abstract': dico_compte_partiemaj[\"abstract\"], 'ccl': dico_compte_partiemaj[\"ccl\"],\n",
    "        #'intro': dico_compte_partiemaj[\"intro\"], 'corps': dico_compte_partiemaj[\"corps\"]}\n",
    "\n",
    "data = {'abstract':len(pd.read_csv(\"df_clusters_abstracts_stopwords_eq.csv\")),'introduction':len(pd.read_csv(\"df_clusters_intros_stopwords_eq.csv\")),'corps':len(pd.read_csv(\"df_clusters_corps_stopwords_eq.csv\")),'conclusion':len(pd.read_csv(\"df_clusters_ccl_stopwords_eq.csv\"))}\n",
    "names = list(data.keys())\n",
    "values = list(data.values())\n",
    "\n",
    "plt.bar(range(len(data)), values, tick_label=names, color = ['r','g','b','grey'])\n",
    "#plt.title('Proportion des parties où il y a le plus de claims')\n",
    "plt.savefig(\"corr/proportion_claims_strength_tt_bar_sw_tt.png\",bbox_inches='tight')\n",
    "plt.show()\n"
   ]
  },
  {
   "cell_type": "code",
   "execution_count": 24,
   "metadata": {},
   "outputs": [
    {
     "data": {
      "image/png": "[encoded data removed]",
      "text/plain": [
       "<Figure size 432x288 with 1 Axes>"
      ]
     },
     "metadata": {
      "needs_background": "light"
     },
     "output_type": "display_data"
    }
   ],
   "source": [
    "# tout\n",
    "import matplotlib.pyplot as plt#data = {'ccl': 1456, 'abstract': 4747, 'intro': 1940}\n",
    "data = {'abstract': dico_compte_partiemaj[\"abstract\"],\n",
    "        'intro': dico_compte_partiemaj[\"intro\"], 'corps': dico_compte_partiemaj[\"corps\"],'ccl': dico_compte_partiemaj[\"ccl\"]}\n",
    "names = list(data.keys())\n",
    "values = list(data.values())\n",
    "\n",
    "plt.bar(range(len(data)), values, tick_label=names, color = ['r','g','b','grey'])\n",
    "#plt.title('Proportion des parties où il y a le plus de claims')\n",
    "plt.savefig(\"corr/proportion_claims_strength_tt_bar_sw.png\",bbox_inches='tight')\n",
    "plt.show()\n"
   ]
  },
  {
   "cell_type": "code",
   "execution_count": 25,
   "metadata": {
    "scrolled": true
   },
   "outputs": [
    {
     "data": {
      "image/png": "[encoded data removed]",
      "text/plain": [
       "<Figure size 432x288 with 1 Axes>"
      ]
     },
     "metadata": {
      "needs_background": "light"
     },
     "output_type": "display_data"
    }
   ],
   "source": [
    "import numpy as np\n",
    "import matplotlib.pyplot as plt\n",
    "  \n",
    "N = 3\n",
    "ind = np.arange(N) \n",
    "width = 0.2\n",
    "  \n",
    "xlabels = []\n",
    "xvals = []\n",
    "\n",
    "for x, y in dico_compteur[\"abstract\"].items():\n",
    "    xlabels.append(x)\n",
    "    xvals.append(y)\n",
    "bar1 = plt.bar(ind, xvals, width, color = 'r')\n",
    "  \n",
    "ylabels = []\n",
    "yvals = []\n",
    "\n",
    "for x, y in dico_compteur[\"intro\"].items():\n",
    "    ylabels.append(x)\n",
    "    yvals.append(y)\n",
    "bar2 = plt.bar(ind+width, yvals, width, color='g')\n",
    "\n",
    "zzlabels = []\n",
    "zzvals = []\n",
    "\n",
    "for x, y in dico_compteur[\"corps\"].items():\n",
    "    zzlabels.append(x)\n",
    "    zzvals.append(y)\n",
    "bar3 = plt.bar(ind+width*2, zzvals, width, color = 'b')\n",
    "  \n",
    "zlabels = []\n",
    "zvals = []\n",
    "\n",
    "for x, y in dico_compteur[\"ccl\"].items():\n",
    "    zlabels.append(x)\n",
    "    zvals.append(y)\n",
    "bar4 = plt.bar(ind+width*3, zvals, width, color = 'grey')\n",
    "\n",
    "  \n",
    "plt.xlabel(\"Claim strength\")\n",
    "plt.ylabel('Nombre de claims')\n",
    "#plt.title(\"Nombre de claims par catégorie selon la partie (tout)\")\n",
    "  \n",
    "plt.xticks(ind+width,['0', '1', '2'])\n",
    "plt.legend( (bar1, bar2, bar3, bar4), ('Abstract', 'Intro', 'Corps', 'Conclusion') )\n",
    "plt.savefig(\"corr/proportion_claims_3bars_tt_sw.png\",bbox_inches='tight')\n",
    "plt.show()"
   ]
  },
  {
   "cell_type": "code",
   "execution_count": 14,
   "metadata": {},
   "outputs": [
    {
     "data": {
      "image/png": "[encoded data removed]",
      "text/plain": [
       "<Figure size 432x288 with 1 Axes>"
      ]
     },
     "metadata": {
      "needs_background": "light"
     },
     "output_type": "display_data"
    }
   ],
   "source": [
    "import numpy as np\n",
    "import matplotlib.pyplot as plt\n",
    "  \n",
    "N = 3\n",
    "ind = np.arange(N) \n",
    "width = 0.2\n",
    "\n",
    "abst = pd.read_csv(\"df_clusters_abstracts_stopwords_eq.csv\")\n",
    "intro = pd.read_csv(\"df_clusters_intros_stopwords_eq.csv\")\n",
    "corps = pd.read_csv(\"df_clusters_corps_stopwords_eq.csv\")\n",
    "ccl = pd.read_csv(\"df_clusters_ccl_stopwords_eq.csv\")\n",
    "\n",
    "clusters_a = abst[\"cluster\"].tolist()\n",
    "clusters_i = intro[\"cluster\"].tolist()\n",
    "clusters_co = corps[\"cluster\"].tolist()\n",
    "clusters_cc = ccl[\"cluster\"].tolist()\n",
    "  \n",
    "xlabels = [\"zero\",\"one\",\"two\"]\n",
    "xvals = [clusters_a.count(\"zero\"),clusters_a.count(\"one\"),clusters_a.count(\"two\")]\n",
    "bar1 = plt.bar(ind, xvals, width, color = 'r')\n",
    "  \n",
    "ylabels = [\"zero\",\"one\",\"two\"]\n",
    "yvals = [clusters_i.count(\"zero\"),clusters_i.count(\"one\"),clusters_i.count(\"two\")]\n",
    "bar2 = plt.bar(ind+width, yvals, width, color = 'g')    \n",
    "\n",
    "zzlabels = [\"zero\",\"one\",\"two\"]\n",
    "zzvals = [clusters_co.count(\"zero\"),clusters_co.count(\"one\"),clusters_co.count(\"two\")]\n",
    "bar3= plt.bar(ind+width*2, zzvals, width, color = 'b')\n",
    "\n",
    "zlabels = [\"zero\",\"one\",\"two\"]\n",
    "zvals = [clusters_cc.count(\"zero\"),clusters_cc.count(\"one\"),clusters_cc.count(\"two\")]\n",
    "bar4 = plt.bar(ind+width*3, zvals, width, color = 'grey')\n",
    "\n",
    "plt.xlabel(\"Claim strength\")\n",
    "plt.ylabel('Nombre de claims')\n",
    "#plt.title(\"Nombre de claims par catégorie selon la partie (tout)\")\n",
    "  \n",
    "plt.xticks(ind+width,['0', '1', '2'])\n",
    "plt.legend( (bar1, bar2, bar3, bar4), ('Abstract', 'Intro', 'Corps', 'Conclusion') )\n",
    "plt.savefig(\"corr/proportion_claims_3bars_tt_sw_tt.png\",bbox_inches='tight')\n",
    "plt.show()"
   ]
  },
  {
   "cell_type": "code",
   "execution_count": 18,
   "metadata": {},
   "outputs": [
    {
     "data": {
      "image/png": "[encoded data removed]",
      "text/plain": [
       "<Figure size 432x288 with 1 Axes>"
      ]
     },
     "metadata": {
      "needs_background": "light"
     },
     "output_type": "display_data"
    },
    {
     "name": "stdout",
     "output_type": "stream",
     "text": [
      "[49168, 325976, 49067]\n"
     ]
    }
   ],
   "source": [
    "#graphique avec proportion de chaque strength en tout\n",
    "import pandas as pd\n",
    "N = 3\n",
    "ind = np.arange(N) \n",
    "width = 0.5\n",
    "\n",
    "df = pd.concat(\n",
    "    map(pd.read_csv, [\"df_clusters_abstracts_stopwords_eq.csv\",\"df_clusters_intros_stopwords_eq.csv\",\n",
    "        \"df_clusters_corps_stopwords_eq.csv\",\"df_clusters_ccl_stopwords_eq.csv\"]), ignore_index=True)\n",
    "clusters = df[\"cluster\"]\n",
    "clusters_l = clusters.tolist()\n",
    "\n",
    "import numpy as np\n",
    "import matplotlib.pyplot as plt\n",
    "  \n",
    "xlabels = [\"zero\",\"one\",\"two\"]\n",
    "xvals = [clusters_l.count(\"zero\"),clusters_l.count(\"one\"),clusters_l.count(\"two\")]\n",
    "\n",
    "bar1 = plt.bar(ind, xvals, width, color = ['r','g','b'])\n",
    "\n",
    "plt.xlabel(\"Claim strength\")\n",
    "plt.ylabel('Nombre de claims')\n",
    "#plt.title(\"Nombre de claims par catégorie\")\n",
    "  \n",
    "plt.xticks(ind,xlabels)\n",
    "plt.savefig(\"corr/proportion_claims_3bars_mix_sw.png\",bbox_inches='tight')\n",
    "plt.show()\n",
    "\n",
    "print(xvals)"
   ]
  },
  {
   "cell_type": "code",
   "execution_count": 19,
   "metadata": {
    "scrolled": true
   },
   "outputs": [
    {
     "data": {
      "image/png": "[encoded data removed]",
      "text/plain": [
       "<Figure size 432x288 with 1 Axes>"
      ]
     },
     "metadata": {
      "needs_background": "light"
     },
     "output_type": "display_data"
    }
   ],
   "source": [
    "import numpy as np\n",
    "import matplotlib.pyplot as plt\n",
    "\n",
    "dico_evol = ouvrir_json(\"dico_evol_strength_sw_corr.json\")\n",
    "#{'abstract': {'0': 0, '1': 0, '2': 0}, 'intro': {'0': 0, '1': 0, '2': 0}, 'ccl': {'0': 0, '1': 0, '2': 0}, 'corps': {'0': 0, '1': 0, '2': 0}}\n",
    "values = list(dico_evol.values())\n",
    "\n",
    "N = 3\n",
    "ind = np.arange(N) \n",
    "width = 0.25\n",
    "  \n",
    "n=\"0\"\n",
    "xvals = [dico_evol[\"début\"][n],dico_evol[\"corps\"][n],dico_evol[\"ccl\"][n]]\n",
    "bar1 = plt.bar(ind, xvals, width, color = 'r')\n",
    "   \n",
    "n=\"1\"\n",
    "yvals = [dico_evol[\"début\"][n],dico_evol[\"corps\"][n],dico_evol[\"ccl\"][n]] #toutes les valeurs de 1\n",
    "bar2 = plt.bar(ind+width, yvals, width, color='g')\n",
    "  \n",
    "n=\"2\"\n",
    "zvals = [dico_evol[\"début\"][n],dico_evol[\"corps\"][n],dico_evol[\"ccl\"][n]]\n",
    "bar3 = plt.bar(ind+width*2, zvals, width, color = 'b')\n",
    "  \n",
    "plt.xlabel(\"Partie\")\n",
    "plt.ylabel('Nombre de claims')\n",
    "plt.title(\"Nombre de claims par partie selon la catégorie \\n(ceux avec 3 claims strength différentes)\")\n",
    "  \n",
    "plt.xticks(ind+width,['Début', 'Corps', 'Conclusion'])\n",
    "plt.legend( (bar1, bar2, bar3), ('0', '1', '2') )\n",
    "plt.savefig(\"corr/proportion_claims_3bars_evol_sw.png\",bbox_inches='tight')\n",
    "plt.show()"
   ]
  },
  {
   "cell_type": "code",
   "execution_count": 20,
   "metadata": {
    "scrolled": false
   },
   "outputs": [
    {
     "data": {
      "text/plain": [
       "{'dict_values([2, 1, 2])': 617,\n",
       " 'dict_values([1, 1, 2])': 488,\n",
       " 'dict_values([0, 2, 2])': 22,\n",
       " 'dict_values([2, 2, 1])': 64,\n",
       " 'dict_values([1, 2, 2])': 413,\n",
       " 'dict_values([1, 2, 1])': 100,\n",
       " 'dict_values([2, 0, 2])': 26,\n",
       " 'dict_values([0, 1, 2])': 22,\n",
       " 'dict_values([2, 1, 1])': 60,\n",
       " 'dict_values([1, 0, 2])': 17,\n",
       " 'dict_values([0, 1, 1])': 8,\n",
       " 'dict_values([2, 2, 0])': 1,\n",
       " 'dict_values([0, 2, 1])': 3,\n",
       " 'dict_values([0, 2, 0])': 2,\n",
       " 'dict_values([1, 0, 1])': 3,\n",
       " 'dict_values([0, 0, 2])': 1,\n",
       " 'dict_values([2, 1, 0])': 2,\n",
       " 'dict_values([2, 0, 1])': 3}"
      ]
     },
     "execution_count": 20,
     "metadata": {},
     "output_type": "execute_result"
    }
   ],
   "source": [
    "ouvrir_json(\"dico_ordre3_sw_corr.json\")"
   ]
  },
  {
   "cell_type": "code",
   "execution_count": 21,
   "metadata": {},
   "outputs": [
    {
     "name": "stdout",
     "output_type": "stream",
     "text": [
      "0 110 1169 187\n"
     ]
    }
   ],
   "source": [
    "d = ouvrir_json(\"dico_claims_diff_bougentpas_sw_corr.json\")\n",
    "pb = 0\n",
    "nb_0 = 0\n",
    "nb_1 = 0\n",
    "nb_2 = 0\n",
    "\n",
    "for k,v in d.items():\n",
    "    if len(v) > 1:\n",
    "        pb+=1\n",
    "    for l,b in v.items():\n",
    "        if b==0:\n",
    "            nb_0 +=1\n",
    "        if b==1:\n",
    "            nb_1 +=1\n",
    "        if b==2:\n",
    "            nb_2 +=1\n",
    "            \n",
    "print(pb, nb_0,nb_1,nb_2)"
   ]
  },
  {
   "cell_type": "code",
   "execution_count": 47,
   "metadata": {},
   "outputs": [
    {
     "data": {
      "image/png": "[encoded data removed]",
      "text/plain": [
       "<Figure size 432x288 with 1 Axes>"
      ]
     },
     "metadata": {
      "needs_background": "light"
     },
     "output_type": "display_data"
    }
   ],
   "source": [
    "#regrouper : (ceux qui progressent/régressent/0,x,x)\n",
    "#dico_ordre = {(2,1,0):41, (2,1,1):13, (2,1,2):7, (2,2,0):3, (1,0,1):3, (1,2,1):2, (2,0,0):2, (1,1,0):2, (2,2,1):1, (0,0,1):1,(1,0,0):1}\n",
    "\n",
    "#rég > prof : type 2,1,2\n",
    "#data = {\"prog\":584+28+505+25+10+1, \"rég\":78+64+1+4,\"rég > prog\":738+30+20+3+3,\"prog > rég\":114+3+2}\n",
    "names = list(data.keys())\n",
    "values = list(data.values())\n",
    "\n",
    "plt.bar(range(len(data)), values, tick_label=names)\n",
    "#plt.title('Proportion des articles selon la progression de la force des claims selon les parties')\n",
    "plt.savefig(\"evolution_strength_regroupe_sw.png\",bbox_inches='tight')\n",
    "plt.show()"
   ]
  },
  {
   "cell_type": "code",
   "execution_count": 22,
   "metadata": {},
   "outputs": [
    {
     "data": {
      "image/png": "[encoded data removed]",
      "text/plain": [
       "<Figure size 432x288 with 1 Axes>"
      ]
     },
     "metadata": {
      "needs_background": "light"
     },
     "output_type": "display_data"
    }
   ],
   "source": [
    "\"\"\"INCLURE LES TRUCS QUI BOUGENT PAS\"\"\"\n",
    "#data = {\"prog\":584+28+505+25+10+1, \"rég\":78+64+1+4,\"rég > prog\":738+30+20+3+3,\"prog > rég\":114+3+2, \"0 stable\":112, \"1 stable\":1199, \"2 stable\":214}\n",
    "data = {\"prog\":488+22+413+22+8+1, \"rég\":64+60+1+2,\"rég > prog\":617+26+17+3+3,\"prog > rég\":100+3+2, \"0 stable\":110, \"1 stable\":1169,\"2 stable\":187}\n",
    "names = list(data.keys())\n",
    "values = list(data.values())\n",
    "\n",
    "plt.bar(range(len(data)), values, tick_label=names)\n",
    "plt.xticks(rotation=30)\n",
    "#plt.title('Proportion des articles selon la progression de la force des claims selon les parties')\n",
    "plt.savefig(\"corr/evolution_strength_regroupe_sw.png\",bbox_inches='tight')\n",
    "plt.show()"
   ]
  },
  {
   "cell_type": "code",
   "execution_count": 23,
   "metadata": {},
   "outputs": [
    {
     "data": {
      "image/png": "[encoded data removed]",
      "text/plain": [
       "<Figure size 432x288 with 1 Axes>"
      ]
     },
     "metadata": {
      "needs_background": "light"
     },
     "output_type": "display_data"
    }
   ],
   "source": [
    "#dico_compteur = ouvrir_json(\"dico_compteurv06-2.json\") #sur tous\n",
    "import numpy as np\n",
    "import matplotlib.pyplot as plt\n",
    "  \n",
    "N = 3\n",
    "ind = np.arange(N) \n",
    "width = 0.2\n",
    "  \n",
    "xlabels = []\n",
    "xvals = []\n",
    "\n",
    "for x, y in dico_compteur[\"abstract\"].items():\n",
    "    xlabels.append(x)\n",
    "    xvals.append(y)\n",
    "bar1 = plt.bar(ind, xvals, width, color = 'r')\n",
    "  \n",
    "ylabels = []\n",
    "yvals = []\n",
    "\n",
    "for x, y in dico_compteur[\"intro\"].items():\n",
    "    ylabels.append(x)\n",
    "    yvals.append(y)\n",
    "bar2 = plt.bar(ind+width, yvals, width, color='g')\n",
    "\n",
    "zzlabels = []\n",
    "zzvals = []\n",
    "\n",
    "for x, y in dico_compteur[\"corps\"].items():\n",
    "    zzlabels.append(x)\n",
    "    zzvals.append(y)\n",
    "bar4 = plt.bar(ind+width*2, zzvals, width, color = 'grey')\n",
    "  \n",
    "zlabels = []\n",
    "zvals = []\n",
    "\n",
    "for x, y in dico_compteur[\"ccl\"].items():\n",
    "    zlabels.append(x)\n",
    "    zvals.append(y)\n",
    "bar3 = plt.bar(ind+width*3, zvals, width, color = 'b')\n",
    "\n",
    "  \n",
    "plt.xlabel(\"Claim strength\")\n",
    "plt.ylabel('Nombre de claims')\n",
    "plt.title(\"Nombre de claims par catégorie selon la partie (tout)\")\n",
    "  \n",
    "plt.xticks(ind+width,['0', '1', '2'])\n",
    "plt.legend( (bar1, bar2, bar4,bar3), ('Abstract', 'Intro', 'Corps', 'Conclusion') )\n",
    "plt.savefig(\"corr/proportion_claims_3bars_tt_sw.png\",bbox_inches='tight')\n",
    "plt.show()"
   ]
  }
 ],
 "metadata": {
  "kernelspec": {
   "display_name": "Python 3 (ipykernel)",
   "language": "python",
   "name": "python3"
  },
  "language_info": {
   "codemirror_mode": {
    "name": "ipython",
    "version": 3
   },
   "file_extension": ".py",
   "mimetype": "text/x-python",
   "name": "python",
   "nbconvert_exporter": "python",
   "pygments_lexer": "ipython3",
   "version": "3.10.4"
  }
 },
 "nbformat": 4,
 "nbformat_minor": 2
}
